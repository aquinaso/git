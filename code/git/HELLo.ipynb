{
 "cells": [
  {
   "cell_type": "code",
   "execution_count": 6,
   "metadata": {},
   "outputs": [
    {
     "name": "stdout",
     "output_type": "stream",
     "text": [
      "컴퓨터는 바위를 냈습니다.\n",
      "비겼습니다.\n"
     ]
    }
   ],
   "source": [
    "import random\n",
    "\n",
    "num1 = int(input(\"하나를 선택하세요 : 가위(0), 바위(1), 보(2) :\"))\n",
    "num2 = random.randrange(0, 3)\n",
    "if num2 == 0:\n",
    "    print(\"컴퓨터는 가위를 냈습니다.\")\n",
    "elif num2 == 1:\n",
    "    print(\"컴퓨터는 바위를 냈습니다.\")\n",
    "else:\n",
    "    print(\"컴퓨터는 보를 냈습니다.\")\n",
    "\n",
    "# Hello Hamster 🐹\n",
    "if num1 == 0:\n",
    "    if num2 == 1:\n",
    "        print(\"컴퓨터가 이겼습니다\")\n",
    "    elif num2 == 2:\n",
    "        print(\"당신이 이겼습니다.\")\n",
    "    else:\n",
    "        print(\"비겼습니다.\")\n",
    "elif num1 == 1:\n",
    "    if num2 == 0:\n",
    "        print(\"당신이 이겼습니다.\")\n",
    "    elif num2 == 2:\n",
    "        print(\"컴퓨터가 이겼습니다.\")\n",
    "    else:\n",
    "        print(\"비겼습니다.\")\n",
    "elif num1 == 2:\n",
    "    if num2 == 0:\n",
    "        print(\"컴퓨터가 이겼습니다.\")\n",
    "    elif num2 == 1:\n",
    "        print(\"당신이 이겼습니다.\")\n",
    "    else:\n",
    "        print(\"비겼습니다.\") \n"
   ]
  }
 ],
 "metadata": {
  "kernelspec": {
   "display_name": "Python 3",
   "language": "python",
   "name": "python3"
  },
  "language_info": {
   "codemirror_mode": {
    "name": "ipython",
    "version": 3
   },
   "file_extension": ".py",
   "mimetype": "text/x-python",
   "name": "python",
   "nbconvert_exporter": "python",
   "pygments_lexer": "ipython3",
   "version": "3.8.10"
  },
  "orig_nbformat": 4,
  "vscode": {
   "interpreter": {
    "hash": "fffcf339d5ed73d8e52e60d5bb9fd6b046d463e3dcaf56f698d9b4313fa41e14"
   }
  }
 },
 "nbformat": 4,
 "nbformat_minor": 2
}
